{
 "cells": [
  {
   "cell_type": "code",
   "execution_count": null,
   "metadata": {},
   "outputs": [],
   "source": [
    "def convert_to_dt(df, lst):\n",
    "   \n",
    "    X = df.copy()\n",
    "    for var in lst:\n",
    "        X[var] = to_datetime(X[var]).dt.date\n",
    "    return X.astype(dict([(var,\"datetime64\") for var in lst]))\n",
    "\n",
    "def to_datetime(Series):\n",
    "   \n",
    "    # Default datetime formats.\n",
    "    formats = ['%d%b%Y', '%Y-%m-%d', '%d/%m/%Y',\n",
    "               '%Y-%m-%d %H:%M:%S', \"%b %d, %Y\"\n",
    "              ,'%d%b%Y:%H:%M:%S.000000']\n",
    "   \n",
    "    data  = Series.copy()\n",
    "    isnan = np.full(len(data), True)\n",
    "    convert_dt, n = None, 0\n",
    "\n",
    "    while True:\n",
    "       \n",
    "        kwds = dict(format=formats[n], errors=\"coerce\")\n",
    "        new_dt = pd.to_datetime(data[isnan], **kwds)\n",
    "        isnan = np.isnan(new_dt)\n",
    "\n",
    "        if sum(~isnan) > 0:\n",
    "            if convert_dt is None: convert_dt = new_dt[~isnan]\n",
    "            else: convert_dt = convert_dt.append(new_dt[~isnan])\n",
    "   \n",
    "        if (n == len(formats)-1) | (len(data[isnan])==0):\n",
    "            if len(data[isnan])>0:\n",
    "                convert_dt = convert_dt.append(data[isnan])\n",
    "                convert_dt[data[isnan].index] = np.nan\n",
    "            break\n",
    "        else: data, n = data[isnan], n + 1\n",
    "           \n",
    "    return convert_dt.sort_index()"
   ]
  },
  {
   "cell_type": "code",
   "execution_count": null,
   "metadata": {},
   "outputs": [],
   "source": [
    "master_pay_dept = convert_to_dt(master_pay_dept, ['crt_dtm','udt_dtm']) "
   ]
  }
 ],
 "metadata": {
  "kernelspec": {
   "display_name": "Python 3",
   "language": "python",
   "name": "python3"
  },
  "language_info": {
   "codemirror_mode": {
    "name": "ipython",
    "version": 3
   },
   "file_extension": ".py",
   "mimetype": "text/x-python",
   "name": "python",
   "nbconvert_exporter": "python",
   "pygments_lexer": "ipython3",
   "version": "3.8.5"
  }
 },
 "nbformat": 4,
 "nbformat_minor": 4
}
