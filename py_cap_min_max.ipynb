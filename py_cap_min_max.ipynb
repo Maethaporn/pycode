{
 "cells": [
  {
   "cell_type": "markdown",
   "metadata": {},
   "source": [
    "ปรับค่าที่น้อยกว่าค่าที่กำหนด (percentile x1-th) ให้เป็นค่าที่ percentile x1-th\n",
    "และ ปรับค่าที่มากกว่าค่าที่กำหนด (percentile x2-th) ให้เป็นค่าที่ percentile x2-th\n",
    "\n",
    "วิธีใช้\n",
    "capmax_bypct(dataframe, [percentile x1-th, percentile x2-th])"
   ]
  },
  {
   "cell_type": "code",
   "execution_count": 6,
   "metadata": {},
   "outputs": [
    {
     "data": {
      "text/html": [
       "<div>\n",
       "<style scoped>\n",
       "    .dataframe tbody tr th:only-of-type {\n",
       "        vertical-align: middle;\n",
       "    }\n",
       "\n",
       "    .dataframe tbody tr th {\n",
       "        vertical-align: top;\n",
       "    }\n",
       "\n",
       "    .dataframe thead th {\n",
       "        text-align: right;\n",
       "    }\n",
       "</style>\n",
       "<table border=\"1\" class=\"dataframe\">\n",
       "  <thead>\n",
       "    <tr style=\"text-align: right;\">\n",
       "      <th></th>\n",
       "      <th>name</th>\n",
       "      <th>age</th>\n",
       "      <th>weight</th>\n",
       "    </tr>\n",
       "  </thead>\n",
       "  <tbody>\n",
       "    <tr>\n",
       "      <th>0</th>\n",
       "      <td>a</td>\n",
       "      <td>10020</td>\n",
       "      <td>60</td>\n",
       "    </tr>\n",
       "    <tr>\n",
       "      <th>1</th>\n",
       "      <td>b</td>\n",
       "      <td>21</td>\n",
       "      <td>30</td>\n",
       "    </tr>\n",
       "    <tr>\n",
       "      <th>2</th>\n",
       "      <td>c</td>\n",
       "      <td>19</td>\n",
       "      <td>10040</td>\n",
       "    </tr>\n",
       "    <tr>\n",
       "      <th>3</th>\n",
       "      <td>a</td>\n",
       "      <td>18</td>\n",
       "      <td>36</td>\n",
       "    </tr>\n",
       "  </tbody>\n",
       "</table>\n",
       "</div>"
      ],
      "text/plain": [
       "  name    age  weight\n",
       "0    a  10020      60\n",
       "1    b     21      30\n",
       "2    c     19   10040\n",
       "3    a     18      36"
      ]
     },
     "execution_count": 6,
     "metadata": {},
     "output_type": "execute_result"
    }
   ],
   "source": [
    "import pandas as pd\n",
    "data = {'name': ['a', 'b', 'c', 'a'], 'age': [10020, 21, 19, 18], 'weight':[60, 30, 10040, 36]}\n",
    "df = pd.DataFrame(data)\n",
    "df"
   ]
  },
  {
   "cell_type": "code",
   "execution_count": 26,
   "metadata": {},
   "outputs": [
    {
     "name": "stdout",
     "output_type": "stream",
     "text": [
      "age : \n",
      " max = 8,520.15 \n",
      " min = 18.15\n",
      "weight : \n",
      " max = 8,543.00 \n",
      " min = 30.90\n"
     ]
    },
    {
     "data": {
      "text/html": [
       "<div>\n",
       "<style scoped>\n",
       "    .dataframe tbody tr th:only-of-type {\n",
       "        vertical-align: middle;\n",
       "    }\n",
       "\n",
       "    .dataframe tbody tr th {\n",
       "        vertical-align: top;\n",
       "    }\n",
       "\n",
       "    .dataframe thead th {\n",
       "        text-align: right;\n",
       "    }\n",
       "</style>\n",
       "<table border=\"1\" class=\"dataframe\">\n",
       "  <thead>\n",
       "    <tr style=\"text-align: right;\">\n",
       "      <th></th>\n",
       "      <th>name</th>\n",
       "      <th>age</th>\n",
       "      <th>weight</th>\n",
       "    </tr>\n",
       "  </thead>\n",
       "  <tbody>\n",
       "    <tr>\n",
       "      <th>0</th>\n",
       "      <td>a</td>\n",
       "      <td>8520.15</td>\n",
       "      <td>60.0</td>\n",
       "    </tr>\n",
       "    <tr>\n",
       "      <th>1</th>\n",
       "      <td>b</td>\n",
       "      <td>21.00</td>\n",
       "      <td>30.9</td>\n",
       "    </tr>\n",
       "    <tr>\n",
       "      <th>2</th>\n",
       "      <td>c</td>\n",
       "      <td>19.00</td>\n",
       "      <td>8543.0</td>\n",
       "    </tr>\n",
       "    <tr>\n",
       "      <th>3</th>\n",
       "      <td>a</td>\n",
       "      <td>18.15</td>\n",
       "      <td>36.0</td>\n",
       "    </tr>\n",
       "  </tbody>\n",
       "</table>\n",
       "</div>"
      ],
      "text/plain": [
       "  name      age  weight\n",
       "0    a  8520.15    60.0\n",
       "1    b    21.00    30.9\n",
       "2    c    19.00  8543.0\n",
       "3    a    18.15    36.0"
      ]
     },
     "execution_count": 26,
     "metadata": {},
     "output_type": "execute_result"
    }
   ],
   "source": [
    "# Cap min-max\n",
    "import numpy as np\n",
    "def capmax_bypct(x , pct) : ## ระวัง field ที่ missing ทั้งหมด หรือ มีค่าๆ เดียวเยอะๆ จน cap แล้วเหลือค่าเดียว\n",
    "    data = x.copy()\n",
    "    for a in data.columns :\n",
    "    \n",
    "        try :\n",
    "\n",
    "            data[a] = data[a].astype(float)\n",
    "            b = ~(np.isnan(data[a].values))\n",
    "            b = data[a].values[b]\n",
    "            # print(b)      \n",
    "            upper = np.percentile(b, pct[1])\n",
    "            lower = np.percentile(b, pct[0])\n",
    "\n",
    "            data.loc[(~data[a].isna()) & (data[a]>upper), a] = upper\n",
    "            data.loc[(~data[a].isna()) & (data[a]<lower), a] = lower\n",
    "      \n",
    "     \n",
    "            print(a, ':','\\n','max = {:,.2f}'.format(upper),'\\n','min = {:,.2f}'.format(lower))\n",
    "        except : pass\n",
    "    return data\n",
    "\n",
    "df_cap = capmax_bypct(x = df, pct = (5, 95))  \n",
    "df_cap"
   ]
  },
  {
   "cell_type": "code",
   "execution_count": null,
   "metadata": {},
   "outputs": [],
   "source": [
    "# data[a].notna()\n",
    "# np.logical_not(data[a].isna())\n",
    "# data[a].isna() == False\n",
    "# data.loc[(~ data[a].isna()) & (data[a] > np.percentile(data[a], pct[1])), a] = np.percentile(data[a], pct[1])"
   ]
  }
 ],
 "metadata": {
  "kernelspec": {
   "display_name": "Python 3",
   "language": "python",
   "name": "python3"
  },
  "language_info": {
   "codemirror_mode": {
    "name": "ipython",
    "version": 3
   },
   "file_extension": ".py",
   "mimetype": "text/x-python",
   "name": "python",
   "nbconvert_exporter": "python",
   "pygments_lexer": "ipython3",
   "version": "3.8.5"
  }
 },
 "nbformat": 4,
 "nbformat_minor": 4
}
