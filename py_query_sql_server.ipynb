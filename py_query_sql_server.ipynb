{
 "cells": [
  {
   "cell_type": "code",
   "execution_count": null,
   "metadata": {},
   "outputs": [],
   "source": [
    "import pyodbc"
   ]
  },
  {
   "cell_type": "code",
   "execution_count": null,
   "metadata": {},
   "outputs": [],
   "source": [
    "conn = pyodbc.connect(\"DSN=databasename\", AutoCommit=True)\n",
    "curs = conn.cursor()\n",
    "\n",
    "sql = '''\n",
    "SELECT DEPT_ID , DEPT_NM , CRT_DTM , UDT_DTM\n",
    "FROM libsas.GHCP_DEPT\n",
    "ORDER BY DEPT_ID , CRT_DTM , UDT_DTM\n",
    ";'''\n",
    "\n",
    "query = sql.format()    \n",
    "df = pd.read_sql(sql, conn).rename(str.lower,axis=1)"
   ]
  }
 ],
 "metadata": {
  "kernelspec": {
   "display_name": "Python 3",
   "language": "python",
   "name": "python3"
  },
  "language_info": {
   "codemirror_mode": {
    "name": "ipython",
    "version": 3
   },
   "file_extension": ".py",
   "mimetype": "text/x-python",
   "name": "python",
   "nbconvert_exporter": "python",
   "pygments_lexer": "ipython3",
   "version": "3.8.5"
  }
 },
 "nbformat": 4,
 "nbformat_minor": 4
}
