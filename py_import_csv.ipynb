{
 "cells": [
  {
   "cell_type": "code",
   "execution_count": null,
   "metadata": {},
   "outputs": [],
   "source": [
    "path = '/folderlevel1/folderlevel2/'"
   ]
  },
  {
   "cell_type": "code",
   "execution_count": 1,
   "metadata": {},
   "outputs": [],
   "source": [
    "import pandas as pd"
   ]
  },
  {
   "cell_type": "code",
   "execution_count": null,
   "metadata": {},
   "outputs": [],
   "source": [
    "# ดึงมาแค่ 5 บรรทัดแรก\n",
    "pd.read_csv(path + 'filename.csv', nrows=5)"
   ]
  },
  {
   "cell_type": "code",
   "execution_count": null,
   "metadata": {},
   "outputs": [],
   "source": [
    "# เลือกคอลัมน์ ชื่อต้องตรงเป๊ะ\n",
    "pd.read_csv(path + 'filename.csv', usecols=['คอลัมน์หนึ่ง', 'คอลัมน์สอง'])"
   ]
  },
  {
   "cell_type": "code",
   "execution_count": null,
   "metadata": {},
   "outputs": [],
   "source": [
    "# ใช้ memory เต็มที่ เพื่อให้มันประเมิน data type จากทุกบรรทัดในข้อมูล\n",
    "pd.read_csv(path + 'filename.csv', low_memory=False)"
   ]
  },
  {
   "cell_type": "code",
   "execution_count": null,
   "metadata": {},
   "outputs": [],
   "source": [
    "# encoding เป็น ภาษาไทย\n",
    "pd.read_csv(path + 'filename.csv', encoding='cp874')\n",
    "pd.read_csv(path + 'filename.csv', encoding='utf-8')"
   ]
  },
  {
   "cell_type": "code",
   "execution_count": null,
   "metadata": {},
   "outputs": [],
   "source": [
    "# กำหนด data type ทุกคอลัมน์\n",
    "pd.read_csv(path + 'filename.csv', dtype='object')\n",
    "\n",
    "# กำหนด data type บางคอลัมน์\n",
    "pd.read_csv(path + 'filename.csv', dtype={'คอลัมน์หนึ่ง':'object','คอลัมน์ห้า':'str'})"
   ]
  },
  {
   "cell_type": "code",
   "execution_count": null,
   "metadata": {},
   "outputs": [],
   "source": [
    "# เปลี่ยนชื่อ columns เป็นตัวเล็กทั้งหมด\n",
    "pd.read_csv(path+'filename.csv').rename(str.lower,axis=1)"
   ]
  },
  {
   "cell_type": "code",
   "execution_count": null,
   "metadata": {},
   "outputs": [],
   "source": [
    "#สร้างตัวแปรมารับค่าไฟล์ที่ import\n",
    "df = pd.read_csv(path + 'filename.csv')"
   ]
  },
  {
   "cell_type": "code",
   "execution_count": null,
   "metadata": {},
   "outputs": [],
   "source": [
    "# import .txt  pipe delimited\n",
    "df = pd.read_csv(path+'filename.txt', sep='|',encoding='cp874',low_memory=False).rename(str.lower,axis=1)"
   ]
  }
 ],
 "metadata": {
  "kernelspec": {
   "display_name": "Python 3",
   "language": "python",
   "name": "python3"
  },
  "language_info": {
   "codemirror_mode": {
    "name": "ipython",
    "version": 3
   },
   "file_extension": ".py",
   "mimetype": "text/x-python",
   "name": "python",
   "nbconvert_exporter": "python",
   "pygments_lexer": "ipython3",
   "version": "3.8.5"
  }
 },
 "nbformat": 4,
 "nbformat_minor": 4
}
