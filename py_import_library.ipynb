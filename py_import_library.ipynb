{
 "cells": [
  {
   "cell_type": "code",
   "execution_count": null,
   "metadata": {},
   "outputs": [],
   "source": [
    "# Manage dataset\n",
    "import pandas as pd\n",
    "\n",
    "# Manage numpy\n",
    "import numpy as np\n",
    "\n",
    "# XGBoost\n",
    "from numpy import loadtxt\n",
    "from xgboost import XGBClassifier\n",
    "\n",
    "# Split data\n",
    "from sklearn.model_selection import train_test_split\n",
    "\n",
    "# Accuracy\n",
    "from sklearn.metrics import accuracy_score"
   ]
  },
  {
   "cell_type": "code",
   "execution_count": null,
   "metadata": {},
   "outputs": [],
   "source": [
    "import pandas as pd, numpy as np\n",
    "import glob\n",
    "import os\n",
    "\n",
    "# connect odbc\n",
    "import pyodbc\n",
    "\n",
    "# about time\n",
    "import timeit\n",
    "from datetime import datetime\n",
    "from dateutil.relativedelta import relativedelta"
   ]
  }
 ],
 "metadata": {
  "kernelspec": {
   "display_name": "Python 3",
   "language": "python",
   "name": "python3"
  },
  "language_info": {
   "codemirror_mode": {
    "name": "ipython",
    "version": 3
   },
   "file_extension": ".py",
   "mimetype": "text/x-python",
   "name": "python",
   "nbconvert_exporter": "python",
   "pygments_lexer": "ipython3",
   "version": "3.8.5"
  }
 },
 "nbformat": 4,
 "nbformat_minor": 4
}
