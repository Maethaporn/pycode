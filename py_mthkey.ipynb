{
 "cells": [
  {
   "cell_type": "code",
   "execution_count": null,
   "metadata": {},
   "outputs": [],
   "source": [
    "import pandas as pd\n",
    "from datetime import datetime\n",
    "from dateutil.relativedelta import relativedelta"
   ]
  },
  {
   "cell_type": "markdown",
   "metadata": {},
   "source": [
    "### แปลง yyyymm เป็นวันที่ yyyy-mm-dd วันที่ 1 และ วันสิ้นเดือน"
   ]
  },
  {
   "cell_type": "code",
   "execution_count": null,
   "metadata": {},
   "outputs": [],
   "source": [
    "# แปลง yyyymm เป็นวันที่ yyyy-mm-dd\n",
    "end_yyyymm = 202109\n",
    "\n",
    "st_yyyymmdd = str(pd.Period(str(end_yyyymm),freq='M').start_time.date())\n",
    "print('st_yyyymmdd =',st_yyyymmdd)\n",
    "end_yyyymmdd = str(pd.Period(str(end_yyyymm),freq='M').end_time.date())\n",
    "print('end_yyyymmdd =',end_yyyymmdd)\n",
    "\n",
    "yyyy = int(end_yyyymmdd.replace('-','')[:4])\n",
    "print('yyyy =', yyyy)\n",
    "mmdd = int(end_yyyymmdd.replace('-','')[4:8])\n",
    "print('mmdd =', mmdd)"
   ]
  },
  {
   "cell_type": "markdown",
   "metadata": {},
   "source": [
    "### เพิ่ม-ลด เดือน"
   ]
  },
  {
   "cell_type": "code",
   "execution_count": null,
   "metadata": {},
   "outputs": [],
   "source": [
    "# เพิ่ม 1 เดือน\n",
    "mth_lag01 = '201812'\n",
    "dt2 = datetime.strptime(mth_lag01,\"%Y%m\").date()\n",
    "mth_lag00 = datetime.strftime((dt2 + relativedelta(months=1)), '%Y%m')\n",
    "mth_lag00"
   ]
  },
  {
   "cell_type": "code",
   "execution_count": null,
   "metadata": {},
   "outputs": [],
   "source": [
    "# ลด 1 เดือน\n",
    "mth_lag00 = datetime.strftime(datetime.strptime(mth_lag01, '%Y%m') + relativedelta(months=-1), '%Y%m')\n",
    "mth_lag00"
   ]
  },
  {
   "cell_type": "markdown",
   "metadata": {},
   "source": [
    "### สร้าง list เดือนตั้งแต่ เดือนเริ่ม ถึง เดือนท้าย ที่กำหนด"
   ]
  },
  {
   "cell_type": "code",
   "execution_count": null,
   "metadata": {},
   "outputs": [],
   "source": [
    "# สร้าง list เดือนตั้งแต่ เริ่ม ถึง ท้าย ที่กำหนด\n",
    "begin_yr = 2018\n",
    "begin_mth = 1\n",
    "end_yr = 2020\n",
    "end_mth = 3\n",
    "\n",
    "b_yyyymm = begin_yr*100 + begin_mth\n",
    "e_yyyymm = end_yr*100 + end_mth\n",
    "\n",
    "print(b_yyyymm,e_yyyymm)\n",
    "\n",
    "[yr*100+mth for yr in range(begin_yr,end_yr+1) for mth in range(1,13) if ((yr*100+mth)>=b_yyyymm) & ((yr*100+mth)<=e_yyyymm) ]"
   ]
  },
  {
   "cell_type": "markdown",
   "metadata": {},
   "source": [
    "### สร้าง list เดือน ตามจำนวนเดือนที่กำหนด"
   ]
  },
  {
   "cell_type": "code",
   "execution_count": 5,
   "metadata": {},
   "outputs": [
    {
     "data": {
      "text/plain": [
       "[201905, 201906, 201907, 201908, 201909, 201910, 201911]"
      ]
     },
     "execution_count": 5,
     "metadata": {},
     "output_type": "execute_result"
    }
   ],
   "source": [
    "# Generate mthkey\n",
    "# setting : begin_mth, begin_yr\n",
    "# setting : periods\n",
    "\n",
    "mthkey = '201905'\n",
    "import math    \n",
    "begin_yr = 2019\n",
    "begin_mth = 5\n",
    "period = 7\n",
    "b_yyyymm = begin_yr * 100 + begin_mth\n",
    "\n",
    "m = [yr*100+mth for yr in range(begin_yr, begin_yr + math.ceil(period/12)+1) for mth in range(1,13) if ((yr*100+mth)>=b_yyyymm)][: period]    \n",
    "m\n"
   ]
  },
  {
   "cell_type": "markdown",
   "metadata": {},
   "source": [
    "### สร้าง list เดือน นับถอยตามจำนวนเดือนที่กำหนด"
   ]
  },
  {
   "cell_type": "code",
   "execution_count": 4,
   "metadata": {},
   "outputs": [
    {
     "data": {
      "text/plain": [
       "[202107, 202108, 202109, 202110, 202111, 202112]"
      ]
     },
     "execution_count": 4,
     "metadata": {},
     "output_type": "execute_result"
    }
   ],
   "source": [
    "# เดือนที่จะทำรายงาน\n",
    "end_yyyymm = 202112\n",
    "\n",
    "begin_yr = int(str(end_yyyymm)[0:4])\n",
    "begin_mth = int(str(end_yyyymm)[4:6])\n",
    "period = -6\n",
    "b_yyyymm = begin_yr * 100 + begin_mth\n",
    "m = [yr*100+mth for yr in range(begin_yr-1, begin_yr+1) for mth in range(1,13) if ((yr*100+mth)<=b_yyyymm)][period:]\n",
    "m"
   ]
  },
  {
   "cell_type": "markdown",
   "metadata": {},
   "source": [
    "### แปลง date9 เป็น datetime และหา diff date"
   ]
  },
  {
   "cell_type": "code",
   "execution_count": 6,
   "metadata": {},
   "outputs": [
    {
     "data": {
      "text/plain": [
       "{'': 1,\n",
       " 'Jan': 2,\n",
       " 'Feb': 3,\n",
       " 'Mar': 4,\n",
       " 'Apr': 5,\n",
       " 'May': 6,\n",
       " 'Jun': 7,\n",
       " 'Jul': 8,\n",
       " 'Aug': 9,\n",
       " 'Sep': 10,\n",
       " 'Oct': 11,\n",
       " 'Nov': 12,\n",
       " 'Dec': 13}"
      ]
     },
     "execution_count": 6,
     "metadata": {},
     "output_type": "execute_result"
    }
   ],
   "source": [
    "import calendar\n",
    "import pandas as pd\n",
    "import numpy as np\n",
    "import datetime\n",
    "\n",
    "mth1 = '09Feb2019'\n",
    "mth2 = '13Jan2018'\n",
    "\n",
    "map_date = {}\n",
    "for n, i in enumerate(calendar.month_abbr,1):\n",
    "    # print(n)\n",
    "    # print(i)\n",
    "    map_date[i] = n\n",
    "  \n",
    "map_date.items()\n",
    "map_date"
   ]
  },
  {
   "cell_type": "code",
   "execution_count": 7,
   "metadata": {},
   "outputs": [],
   "source": [
    "def date9_sas(dt):\n",
    "    mth_dict = dict((mth.lower(),n) for n,mth in enumerate(calendar.month_abbr))\n",
    "    str_dt = str(dt[5:9]) + '/' + str (mth_dict[str(dt[2:5]).lower()]) + '/' + str(dt[0:2])\n",
    "    return pd.to_datetime(str_dt, format='%Y/%m/%d')\n",
    "\n",
    "# หรือ \n",
    "\n",
    "def date9_sas(dt):\n",
    "    mth_dict = dict((mth.lower(),n) for n,mth in enumerate(calendar.month_abbr))\n",
    "    return pd.to_datetime(str(dt[5:9]) + '/' + str (mth_dict[str(dt[2:5]).lower()]) + '/' + str(dt[0:2]),format='%Y/%m/%d')"
   ]
  },
  {
   "cell_type": "code",
   "execution_count": 20,
   "metadata": {},
   "outputs": [
    {
     "data": {
      "text/plain": [
       "Timestamp('2019-02-09 00:00:00')"
      ]
     },
     "execution_count": 20,
     "metadata": {},
     "output_type": "execute_result"
    }
   ],
   "source": [
    "date9_sas(mth1)"
   ]
  },
  {
   "cell_type": "code",
   "execution_count": 21,
   "metadata": {},
   "outputs": [
    {
     "data": {
      "text/plain": [
       "Timestamp('2018-01-13 00:00:00')"
      ]
     },
     "execution_count": 21,
     "metadata": {},
     "output_type": "execute_result"
    }
   ],
   "source": [
    "date9_sas(mth2)"
   ]
  },
  {
   "cell_type": "markdown",
   "metadata": {},
   "source": [
    "#### diff date"
   ]
  },
  {
   "cell_type": "code",
   "execution_count": 13,
   "metadata": {},
   "outputs": [
    {
     "data": {
      "text/plain": [
       "392"
      ]
     },
     "execution_count": 13,
     "metadata": {},
     "output_type": "execute_result"
    }
   ],
   "source": [
    "(date9_sas(mth1) - date9_sas(mth2)).days"
   ]
  },
  {
   "cell_type": "code",
   "execution_count": 18,
   "metadata": {},
   "outputs": [
    {
     "data": {
      "text/html": [
       "<div>\n",
       "<style scoped>\n",
       "    .dataframe tbody tr th:only-of-type {\n",
       "        vertical-align: middle;\n",
       "    }\n",
       "\n",
       "    .dataframe tbody tr th {\n",
       "        vertical-align: top;\n",
       "    }\n",
       "\n",
       "    .dataframe thead th {\n",
       "        text-align: right;\n",
       "    }\n",
       "</style>\n",
       "<table border=\"1\" class=\"dataframe\">\n",
       "  <thead>\n",
       "    <tr style=\"text-align: right;\">\n",
       "      <th></th>\n",
       "      <th>date</th>\n",
       "    </tr>\n",
       "  </thead>\n",
       "  <tbody>\n",
       "    <tr>\n",
       "      <th>0</th>\n",
       "      <td>09Feb2019</td>\n",
       "    </tr>\n",
       "    <tr>\n",
       "      <th>1</th>\n",
       "      <td>13Jan2018</td>\n",
       "    </tr>\n",
       "  </tbody>\n",
       "</table>\n",
       "</div>"
      ],
      "text/plain": [
       "        date\n",
       "0  09Feb2019\n",
       "1  13Jan2018"
      ]
     },
     "execution_count": 18,
     "metadata": {},
     "output_type": "execute_result"
    }
   ],
   "source": [
    "data = pd.DataFrame({'date':[mth1,mth2]})\n",
    "data"
   ]
  },
  {
   "cell_type": "code",
   "execution_count": 22,
   "metadata": {},
   "outputs": [
    {
     "data": {
      "text/html": [
       "<div>\n",
       "<style scoped>\n",
       "    .dataframe tbody tr th:only-of-type {\n",
       "        vertical-align: middle;\n",
       "    }\n",
       "\n",
       "    .dataframe tbody tr th {\n",
       "        vertical-align: top;\n",
       "    }\n",
       "\n",
       "    .dataframe thead th {\n",
       "        text-align: right;\n",
       "    }\n",
       "</style>\n",
       "<table border=\"1\" class=\"dataframe\">\n",
       "  <thead>\n",
       "    <tr style=\"text-align: right;\">\n",
       "      <th></th>\n",
       "      <th>date</th>\n",
       "      <th>new_date</th>\n",
       "      <th>diff_date</th>\n",
       "    </tr>\n",
       "  </thead>\n",
       "  <tbody>\n",
       "    <tr>\n",
       "      <th>1</th>\n",
       "      <td>13Jan2018</td>\n",
       "      <td>2018-01-13</td>\n",
       "      <td>NaN</td>\n",
       "    </tr>\n",
       "    <tr>\n",
       "      <th>0</th>\n",
       "      <td>09Feb2019</td>\n",
       "      <td>2019-02-09</td>\n",
       "      <td>392.0</td>\n",
       "    </tr>\n",
       "  </tbody>\n",
       "</table>\n",
       "</div>"
      ],
      "text/plain": [
       "        date   new_date  diff_date\n",
       "1  13Jan2018 2018-01-13        NaN\n",
       "0  09Feb2019 2019-02-09      392.0"
      ]
     },
     "execution_count": 22,
     "metadata": {},
     "output_type": "execute_result"
    }
   ],
   "source": [
    "data['new_date'] = data['date'].apply(lambda x : date9_sas(x))\n",
    "data = data.sort_values(by='date',ascending=False)\n",
    "data['diff_date'] = (data['new_date'] -  data['new_date'].shift(1)).dt.days\n",
    "data"
   ]
  },
  {
   "cell_type": "code",
   "execution_count": 23,
   "metadata": {
    "scrolled": true
   },
   "outputs": [
    {
     "data": {
      "text/plain": [
       "1        NaT\n",
       "0   392 days\n",
       "Name: new_date, dtype: timedelta64[ns]"
      ]
     },
     "execution_count": 23,
     "metadata": {},
     "output_type": "execute_result"
    }
   ],
   "source": [
    "(data['new_date'] -  data['new_date'].shift(1))"
   ]
  },
  {
   "cell_type": "markdown",
   "metadata": {},
   "source": [
    "#### หรือ"
   ]
  },
  {
   "cell_type": "code",
   "execution_count": 15,
   "metadata": {},
   "outputs": [
    {
     "data": {
      "text/plain": [
       "'13/01/18'"
      ]
     },
     "execution_count": 15,
     "metadata": {},
     "output_type": "execute_result"
    }
   ],
   "source": [
    "def d9_dt(d) :\n",
    "    mth_dict = dict((mth.lower(),n) for n,mth in enumerate(calendar.month_abbr))\n",
    "    return datetime.datetime.strptime(str(int(d[5:9])*10000+int(mth_dict[str(d[2:5]).lower()])*100+int(d[0:2])), '%Y%m%d').strftime('%d/%m/%y')\n",
    "  \n",
    "\n",
    "\n",
    "d9_dt(mth1)\n",
    "d9_dt(mth2)"
   ]
  },
  {
   "cell_type": "code",
   "execution_count": 16,
   "metadata": {},
   "outputs": [
    {
     "data": {
      "text/plain": [
       "Timedelta('392 days 00:00:00')"
      ]
     },
     "execution_count": 16,
     "metadata": {},
     "output_type": "execute_result"
    }
   ],
   "source": [
    "a = pd.to_datetime(d9_dt(mth2), format='%d/%m/%y')\n",
    "b = pd.to_datetime(d9_dt(mth1), format='%d/%m/%y')\n",
    "b-a"
   ]
  },
  {
   "cell_type": "code",
   "execution_count": 17,
   "metadata": {},
   "outputs": [
    {
     "data": {
      "text/plain": [
       "392"
      ]
     },
     "execution_count": 17,
     "metadata": {},
     "output_type": "execute_result"
    }
   ],
   "source": [
    "# dir(b-a)\n",
    "(b-a).days"
   ]
  }
 ],
 "metadata": {
  "kernelspec": {
   "display_name": "Python 3",
   "language": "python",
   "name": "python3"
  },
  "language_info": {
   "codemirror_mode": {
    "name": "ipython",
    "version": 3
   },
   "file_extension": ".py",
   "mimetype": "text/x-python",
   "name": "python",
   "nbconvert_exporter": "python",
   "pygments_lexer": "ipython3",
   "version": "3.8.5"
  }
 },
 "nbformat": 4,
 "nbformat_minor": 4
}
