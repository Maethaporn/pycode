{
 "cells": [
  {
   "cell_type": "code",
   "execution_count": null,
   "metadata": {},
   "outputs": [],
   "source": [
    "import pandas as pd"
   ]
  },
  {
   "cell_type": "code",
   "execution_count": null,
   "metadata": {},
   "outputs": [],
   "source": [
    "# แสดงผลลัพธ์ dataframe ทุกคอลัมน์\n",
    "pd.set_option('display.max_columns', None)\n",
    "\n",
    "# แสดงผลลัพธ์ dataframe ทุกแถว\n",
    "pd.set_option('display.max_rows', None)\n",
    "\n",
    "# แสดงผลลัพธ์ที่เป็นตัวเลขในรูป ทศนิยม 2 ตำแหน่ง\n",
    "pd.options.display.float_format = '{:,.2f}'.format"
   ]
  }
 ],
 "metadata": {
  "kernelspec": {
   "display_name": "Python 3",
   "language": "python",
   "name": "python3"
  },
  "language_info": {
   "codemirror_mode": {
    "name": "ipython",
    "version": 3
   },
   "file_extension": ".py",
   "mimetype": "text/x-python",
   "name": "python",
   "nbconvert_exporter": "python",
   "pygments_lexer": "ipython3",
   "version": "3.8.5"
  }
 },
 "nbformat": 4,
 "nbformat_minor": 4
}
